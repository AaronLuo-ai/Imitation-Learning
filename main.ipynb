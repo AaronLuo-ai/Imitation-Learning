{
 "cells": [
  {
   "cell_type": "markdown",
   "metadata": {},
   "source": [
    "## Prepare the environment and load the expert model"
   ]
  },
  {
   "cell_type": "code",
   "execution_count": 16,
   "metadata": {},
   "outputs": [],
   "source": [
    "import deeprl_hw3.imitation\n",
    "import deeprl_hw3.reinforce\n",
    "import gym\n",
    "import time\n",
    "import numpy as np\n",
    "import keras\n",
    "import tensorflow as tf"
   ]
  },
  {
   "cell_type": "code",
   "execution_count": 17,
   "metadata": {},
   "outputs": [
    {
     "name": "stdout",
     "output_type": "stream",
     "text": [
      "Model: \"model\"\n",
      "_________________________________________________________________\n",
      " Layer (type)                Output Shape              Param #   \n",
      "=================================================================\n",
      " input_1 (InputLayer)        [(None, 4)]               0         \n",
      "                                                                 \n",
      " dense_1 (Dense)             (None, 16)                80        \n",
      "                                                                 \n",
      " activation_1 (Activation)   (None, 16)                0         \n",
      "                                                                 \n",
      " dense_2 (Dense)             (None, 16)                272       \n",
      "                                                                 \n",
      " activation_2 (Activation)   (None, 16)                0         \n",
      "                                                                 \n",
      " dense_3 (Dense)             (None, 16)                272       \n",
      "                                                                 \n",
      " activation_3 (Activation)   (None, 16)                0         \n",
      "                                                                 \n",
      " dense_4 (Dense)             (None, 2)                 34        \n",
      "                                                                 \n",
      " activation_4 (Activation)   (None, 2)                 0         \n",
      "                                                                 \n",
      "=================================================================\n",
      "Total params: 658 (2.57 KB)\n",
      "Trainable params: 658 (2.57 KB)\n",
      "Non-trainable params: 0 (0.00 Byte)\n",
      "_________________________________________________________________\n"
     ]
    },
    {
     "name": "stderr",
     "output_type": "stream",
     "text": [
      "2024-03-16 17:38:04.674668: W tensorflow/core/util/tensor_slice_reader.cc:97] Could not open CartPole-v0_weights.h5f: DATA_LOSS: not an sstable (bad magic number): perhaps your file is in a different file format and you need to use a different restore operator?\n"
     ]
    }
   ],
   "source": [
    "### load the weights of expert\n",
    "expert = deeprl_hw3.imitation.load_model('CartPole-v0_config.json','CartPole-v0_weights.h5f')\n",
    "\n",
    "### prepare the environment\n",
    "env = gym.make('CartPole-v0')"
   ]
  },
  {
   "cell_type": "markdown",
   "metadata": {},
   "source": [
    "## Step 1: Implement `generate_expert_training_data()` in `deeprl_hw/imitation.py`"
   ]
  },
  {
   "cell_type": "code",
   "execution_count": 18,
   "metadata": {},
   "outputs": [],
   "source": [
    "from deeprl_hw3.imitation import generate_expert_training_data"
   ]
  },
  {
   "cell_type": "markdown",
   "metadata": {},
   "source": [
    "## Step 2: Generate datasets to train the cloned model"
   ]
  },
  {
   "cell_type": "markdown",
   "metadata": {},
   "source": [
    "### Step 2.1: generate 1 expert episode and train a cloned model"
   ]
  },
  {
   "cell_type": "code",
   "execution_count": 19,
   "metadata": {},
   "outputs": [
    {
     "name": "stdout",
     "output_type": "stream",
     "text": [
      "Model: \"model\"\n",
      "_________________________________________________________________\n",
      " Layer (type)                Output Shape              Param #   \n",
      "=================================================================\n",
      " input_1 (InputLayer)        [(None, 4)]               0         \n",
      "                                                                 \n",
      " dense_1 (Dense)             (None, 16)                80        \n",
      "                                                                 \n",
      " activation_1 (Activation)   (None, 16)                0         \n",
      "                                                                 \n",
      " dense_2 (Dense)             (None, 16)                272       \n",
      "                                                                 \n",
      " activation_2 (Activation)   (None, 16)                0         \n",
      "                                                                 \n",
      " dense_3 (Dense)             (None, 16)                272       \n",
      "                                                                 \n",
      " activation_3 (Activation)   (None, 16)                0         \n",
      "                                                                 \n",
      " dense_4 (Dense)             (None, 2)                 34        \n",
      "                                                                 \n",
      " activation_4 (Activation)   (None, 2)                 0         \n",
      "                                                                 \n",
      "=================================================================\n",
      "Total params: 658 (2.57 KB)\n",
      "Trainable params: 658 (2.57 KB)\n",
      "Non-trainable params: 0 (0.00 Byte)\n",
      "_________________________________________________________________\n"
     ]
    },
    {
     "ename": "NameError",
     "evalue": "name 'state_list' is not defined",
     "output_type": "error",
     "traceback": [
      "\u001b[0;31m---------------------------------------------------------------------------\u001b[0m",
      "\u001b[0;31mNameError\u001b[0m                                 Traceback (most recent call last)",
      "Cell \u001b[0;32mIn[19], line 6\u001b[0m\n\u001b[1;32m      3\u001b[0m num_episodes \u001b[38;5;241m=\u001b[39m \u001b[38;5;241m1\u001b[39m\n\u001b[1;32m      4\u001b[0m \u001b[38;5;66;03m### TODO: generate data and train a cloned model\u001b[39;00m\n\u001b[1;32m      5\u001b[0m \u001b[38;5;66;03m# generate training data using an expert\u001b[39;00m\n\u001b[0;32m----> 6\u001b[0m states_1, actions_1 \u001b[38;5;241m=\u001b[39m \u001b[43mgenerate_expert_training_data\u001b[49m\u001b[43m(\u001b[49m\u001b[43mexpert\u001b[49m\u001b[43m,\u001b[49m\u001b[43m \u001b[49m\u001b[43menv\u001b[49m\u001b[43m,\u001b[49m\u001b[43m \u001b[49m\u001b[43mnum_episodes\u001b[49m\u001b[43m)\u001b[49m\n",
      "File \u001b[0;32m~/Desktop/WUSTL/2024 spring/CS 510/HW3/starter_code/deeprl_hw3/imitation.py:66\u001b[0m, in \u001b[0;36mgenerate_expert_training_data\u001b[0;34m(expert, env, num_episodes, render)\u001b[0m\n\u001b[1;32m     64\u001b[0m done \u001b[38;5;241m=\u001b[39m \u001b[38;5;28;01mFalse\u001b[39;00m\n\u001b[1;32m     65\u001b[0m \u001b[38;5;28;01mwhile\u001b[39;00m \u001b[38;5;129;01mnot\u001b[39;00m done:\n\u001b[0;32m---> 66\u001b[0m     \u001b[43mstate_list\u001b[49m\u001b[38;5;241m.\u001b[39mappend(state)\n\u001b[1;32m     67\u001b[0m     \u001b[38;5;28mprint\u001b[39m(\u001b[38;5;124m\"\u001b[39m\u001b[38;5;124mstate_list shape: \u001b[39m\u001b[38;5;124m\"\u001b[39m,state_list\u001b[38;5;241m.\u001b[39mshape)\n\u001b[1;32m     68\u001b[0m     action_prob \u001b[38;5;241m=\u001b[39m expert\u001b[38;5;241m.\u001b[39mpredict(state\u001b[38;5;241m.\u001b[39mreshape(\u001b[38;5;241m1\u001b[39m, \u001b[38;5;241m-\u001b[39m\u001b[38;5;241m1\u001b[39m))\n",
      "\u001b[0;31mNameError\u001b[0m: name 'state_list' is not defined"
     ]
    }
   ],
   "source": [
    "### define the model\n",
    "model_1 = deeprl_hw3.imitation.load_model('CartPole-v0_config.json')\n",
    "num_episodes = 1\n",
    "### TODO: generate data and train a cloned model\n",
    "# generate training data using an expert\n",
    "states_1, actions_1 = generate_expert_training_data(expert, env, num_episodes)\n"
   ]
  },
  {
   "cell_type": "code",
   "execution_count": null,
   "metadata": {},
   "outputs": [],
   "source": [
    "from deeprl_hw3.imitation import test_cloned_policy\n",
    "from tensorflow.keras.optimizers import Adam\n",
    "### TODO: test the cloned model. Use the function test_cloned_policy() in deeprl_hw3.imitation.py\n",
    "model_1.compile(optimizer=Adam(), loss='binary_crossentropy', metrics=['accuracy'])\n",
    "# testing model_1 learned on 1 episode of master data\n",
    "# Assume states and actions are your data from generate_training_data\n",
    "history = model.fit(states, actions, epochs = 100, batch_size=32, validation_split=0.2)\n",
    "test_cloned_policy(env, model_1, 100, render=True)"
   ]
  },
  {
   "cell_type": "markdown",
   "metadata": {},
   "source": [
    "### Step 2.2: generate 10 expert episode and train a cloned model"
   ]
  },
  {
   "cell_type": "code",
   "execution_count": null,
   "metadata": {},
   "outputs": [],
   "source": [
    "### define the model\n",
    "model_10 = deeprl_hw3.imitation.load_model('CartPole-v0_config.json')\n",
    "\n",
    "### TODO: generate data and train a cloned model\n",
    "states_10, actions_10 = generate_expert_training_data(model_10, env, num_episodes)"
   ]
  },
  {
   "cell_type": "code",
   "execution_count": null,
   "metadata": {},
   "outputs": [],
   "source": [
    "### TODO: test the cloned model. Use the function test_cloned_policy() in deeprl_hw3.imitation.py\n",
    "from deeprl_hw3.imitation import test_cloned_policy\n",
    "from tensorflow.keras.optimizers import Adam\n",
    "model_10.compile(optimizer=Adam(), loss='binary_crossentropy', metrics=['accuracy'])\n",
    "test_cloned_policy(env, model_10, 10, render=True)\n"
   ]
  },
  {
   "cell_type": "markdown",
   "metadata": {},
   "source": [
    "### Step 2.3: generate 50 expert episode and train a cloned model"
   ]
  },
  {
   "cell_type": "code",
   "execution_count": null,
   "metadata": {},
   "outputs": [],
   "source": [
    "### define the model\n",
    "model_50 = deeprl_hw3.imitation.load_model('CartPole-v0_config.json')\n",
    "\n",
    "### TODO: generate data and train a cloned model\n",
    "states_50, actions_50 = generate_expert_training_data(model_50, env, num_episodes)\n"
   ]
  },
  {
   "cell_type": "code",
   "execution_count": null,
   "metadata": {},
   "outputs": [],
   "source": [
    "### TODO: test the cloned model. Use the function test_cloned_policy() in deeprl_hw3.imitation.py\n",
    "model_50.compile(optimizer=Adam(), loss='binary_crossentropy', metrics=['accuracy'])\n",
    "test_cloned_policy(env, model_50, 10, render=True)\n"
   ]
  },
  {
   "cell_type": "markdown",
   "metadata": {},
   "source": [
    "### Step 2.4: generate 100 expert episode and train a cloned model"
   ]
  },
  {
   "cell_type": "code",
   "execution_count": null,
   "metadata": {},
   "outputs": [],
   "source": [
    "### define the model\n",
    "model_100 = deeprl_hw3.imitation.load_model('CartPole-v0_config.json')\n",
    "\n",
    "### TODO: generate data and train a cloned model\n",
    "\n"
   ]
  },
  {
   "cell_type": "code",
   "execution_count": null,
   "metadata": {},
   "outputs": [],
   "source": [
    "### TODO: test the cloned model. Use the function test_cloned_policy() in deeprl_hw3.imitation.py\n",
    "\n"
   ]
  },
  {
   "cell_type": "markdown",
   "metadata": {},
   "source": [
    "## Step 3: Wrap a harder environment and evaluate each cloned model on this harder environment"
   ]
  },
  {
   "cell_type": "code",
   "execution_count": null,
   "metadata": {},
   "outputs": [],
   "source": [
    "### warp a harder environment\n",
    "env = deeprl_hw3.imitation.wrap_cartpole(env)"
   ]
  },
  {
   "cell_type": "code",
   "execution_count": null,
   "metadata": {},
   "outputs": [],
   "source": [
    "### TODO: test each of your cloned model and the expert on the harder environment\n",
    "\n"
   ]
  },
  {
   "cell_type": "code",
   "execution_count": null,
   "metadata": {},
   "outputs": [],
   "source": [
    "### TODO: you can "
   ]
  },
  {
   "cell_type": "markdown",
   "metadata": {},
   "source": [
    "## Step 4: Implement REINFORCE"
   ]
  },
  {
   "cell_type": "code",
   "execution_count": null,
   "metadata": {},
   "outputs": [],
   "source": [
    "import deeprl_hw3.imitation\n",
    "import deeprl_hw3.reinforce\n",
    "import gym\n",
    "import time\n",
    "import numpy as np\n",
    "import keras\n",
    "\n",
    "env = gym.make('CartPole-v0')"
   ]
  },
  {
   "cell_type": "code",
   "execution_count": null,
   "metadata": {},
   "outputs": [],
   "source": [
    "### define the reinforce agent here\n",
    "reinforce_agent = deeprl_hw3.imitation.load_model('CartPole-v0_config.json')"
   ]
  },
  {
   "cell_type": "code",
   "execution_count": null,
   "metadata": {},
   "outputs": [],
   "source": [
    "### TODO: train your REINFORCE agent\n",
    "### You could implement the functions in deeprl_hw3.reinforce, but you are not restricted to do that.\n",
    "### You can implement it in any way you like.\n",
    "\n"
   ]
  },
  {
   "cell_type": "code",
   "execution_count": null,
   "metadata": {},
   "outputs": [],
   "source": [
    "### TODO: Show your learning curves for the agent.\n",
    "### In other words, every k episodes, freeze the current policy and run 100 test episodes.\n",
    "### Average the total reward and track the min and max reward.\n",
    "### Plot the total reward on the y-axis with min/max values as error-bars vs the number of training episodes.\n",
    "\n"
   ]
  },
  {
   "cell_type": "markdown",
   "metadata": {},
   "source": [
    "## Step 5: Compare your REINFORCE agent with your cloned model"
   ]
  },
  {
   "cell_type": "code",
   "execution_count": null,
   "metadata": {},
   "outputs": [],
   "source": [
    "### TODO\n",
    "\n"
   ]
  }
 ],
 "metadata": {
  "kernelspec": {
   "display_name": "drlhw3",
   "language": "python",
   "name": "python3"
  },
  "language_info": {
   "codemirror_mode": {
    "name": "ipython",
    "version": 3
   },
   "file_extension": ".py",
   "mimetype": "text/x-python",
   "name": "python",
   "nbconvert_exporter": "python",
   "pygments_lexer": "ipython3",
   "version": "3.8.18"
  }
 },
 "nbformat": 4,
 "nbformat_minor": 2
}
